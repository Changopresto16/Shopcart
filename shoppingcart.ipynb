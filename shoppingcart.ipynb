{
 "cells": [
  {
   "cell_type": "code",
   "execution_count": 5,
   "metadata": {},
   "outputs": [],
   "source": [
    "def Grabqty():\n",
    "        quantity = input(\"how many? (enter in digits)\")\n",
    "        if quantity.isdigit():\n",
    "            quantity = int(quantity)\n",
    "        else:\n",
    "            print('Invalid input.. please enter a digit')\n",
    "            quantity = Grabqty()    \n",
    "        return quantity\n",
    "            \n",
    "def Pluscart(cart):\n",
    "    item = input(\"what do you want to add to the cart?\").lower()\n",
    "    quantity = Grabqty()\n",
    "    cart[item] = quantity\n",
    "    return\n",
    "\n",
    "def RemoveCartItem(cart):\n",
    "    print(f'This is whats in your cart: {list(cart)}')\n",
    "    item = input(\"What item should be removed?\").lower()\n",
    "    if item not in cart:\n",
    "        print('Invalid response... You do not have that item in your cart')\n",
    "        RemoveCartItem(cart)\n",
    "        return\n",
    "    else:\n",
    "        print(f'You have {cart[item]} {item}\\'s in your cart.. ')\n",
    "        quantity = Grabqty()\n",
    "        cart[item] = cart[item] - quantity\n",
    "        if cart[item] < 0:\n",
    "            del cart[item]\n",
    "    return\n",
    "\n",
    "def CartView(cart):\n",
    "    print(cart)\n",
    "    return\n",
    "\n",
    "def runSimulation():\n",
    "    cart = {}\n",
    "    while True:\n",
    "        res = input('What do you want to do?\\nType \"show\" to show cart\\nType \"add\" to add to cart\\nType \"remove\" to remove an item from cart\\nType \"quit\" to finish shopping\\n')\n",
    "        if res.lower() == 'show':\n",
    "            CartView(cart)\n",
    "            \n",
    "        elif res.lower() == 'add':\n",
    "            Pluscart(cart)\n",
    "            \n",
    "        elif res.lower() == 'remove':\n",
    "            RemoveCartItem(cart)\n",
    "            \n",
    "        elif res.lower() == 'quit':\n",
    "            CartView(cart)\n",
    "            break\n",
    "        else:\n",
    "            print(\"Not valid.. please type 'Show', 'Add', 'Remove', or 'Quit' to continue\")\n",
    "                        \n",
    "class Cart:\n",
    "\n",
    "    def __init__(self, brand, color, blade, price):\n",
    "        self.brand = brand\n",
    "        self.color = color\n",
    "        self.blade = blade\n",
    "        self.price = price\n",
    "        \n",
    "    def complete(self):\n",
    "        return '{} {} {} {}'.format(self.brand, self.color, self.blade, self.price)\n",
    "\n",
    "knf_1 = Cart('benchmade','blue','clippoint', 100)\n",
    "knf_2 = Cart('spyderco','red','harpoon', 210)\n",
    "        \n",
    "            \n",
    "runSimulation()\n"
   ]
  },
  {
   "cell_type": "code",
   "execution_count": null,
   "metadata": {},
   "outputs": [],
   "source": [
    "class IOString():\n",
    "    def __init__(self):\n",
    "        self.string1 = \"\"\n",
    "\n",
    "    def get_String(self):\n",
    "        self.string1 = input()\n",
    "\n",
    "    def print_String(self):\n",
    "        print(self.string1.upper())\n",
    "\n",
    "str1 = IOString()\n",
    "str1.get_String()\n",
    "str1.print_String()\n"
   ]
  },
  {
   "cell_type": "code",
   "execution_count": null,
   "metadata": {},
   "outputs": [],
   "source": []
  }
 ],
 "metadata": {
  "kernelspec": {
   "display_name": "Python 3.9.7 64-bit",
   "language": "python",
   "name": "python3"
  },
  "language_info": {
   "codemirror_mode": {
    "name": "ipython",
    "version": 3
   },
   "file_extension": ".py",
   "mimetype": "text/x-python",
   "name": "python",
   "nbconvert_exporter": "python",
   "pygments_lexer": "ipython3",
   "version": "3.9.7"
  },
  "vscode": {
   "interpreter": {
    "hash": "aee8b7b246df8f9039afb4144a1f6fd8d2ca17a180786b69acc140d282b71a49"
   }
  }
 },
 "nbformat": 4,
 "nbformat_minor": 2
}
